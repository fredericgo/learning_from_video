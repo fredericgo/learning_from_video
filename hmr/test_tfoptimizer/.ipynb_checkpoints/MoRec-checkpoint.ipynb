{
 "cells": [
  {
   "cell_type": "code",
   "execution_count": 1,
   "metadata": {},
   "outputs": [
    {
     "name": "stderr",
     "output_type": "stream",
     "text": [
      "/anaconda2/lib/python2.7/site-packages/h5py/__init__.py:36: FutureWarning: Conversion of the second argument of issubdtype from `float` to `np.floating` is deprecated. In future, it will be treated as `np.float64 == np.dtype(float).type`.\n",
      "  from ._conv import register_converters as _register_converters\n"
     ]
    }
   ],
   "source": [
    "from __future__ import absolute_import\n",
    "from __future__ import division\n",
    "from __future__ import print_function\n",
    "\n",
    "import numpy as np\n",
    "import tensorflow as tf"
   ]
  },
  {
   "cell_type": "code",
   "execution_count": 2,
   "metadata": {},
   "outputs": [],
   "source": [
    "sess = tf.InteractiveSession()"
   ]
  },
  {
   "cell_type": "code",
   "execution_count": 3,
   "metadata": {},
   "outputs": [],
   "source": [
    "data = np.load('p1.npy').item()"
   ]
  },
  {
   "cell_type": "code",
   "execution_count": 4,
   "metadata": {},
   "outputs": [],
   "source": [
    "num_cam = 3\n",
    "num_features = 72\n",
    "num_hidden = 2048\n",
    "\n",
    "x2d = data['joints']\n",
    "q3d = data['theta'][:, num_cam:(num_cam + num_features)]\n",
    "num_steps = x2d.shape[0]"
   ]
  },
  {
   "cell_type": "code",
   "execution_count": 23,
   "metadata": {},
   "outputs": [],
   "source": [
    "lr = 0.01"
   ]
  },
  {
   "cell_type": "code",
   "execution_count": 5,
   "metadata": {},
   "outputs": [
    {
     "data": {
      "text/plain": [
       "['cams', 'joints', 'verts', 'joints3d', 'theta']"
      ]
     },
     "execution_count": 5,
     "metadata": {},
     "output_type": "execute_result"
    }
   ],
   "source": [
    "data.keys()"
   ]
  },
  {
   "cell_type": "markdown",
   "metadata": {},
   "source": [
    "# Note\n",
    "Latent features: $Z=\\{z_t\\}$\n",
    "\n",
    "Loss function: $l_{rec}(Z)=w_{2D}l_{2D}(Z)+ w_{3D}l_{3D}(Z)+w_{sm}l_{sm}(Z)$\n",
    "\n",
    "2D loss:\n",
    "$$\n",
    "l_{2D}=\\sum_t\\sum_j c_{t,j}\\left\\Vert\\hat{x}_{t,j}-\\Pi[F_j(q(z_t))]\\right\\Vert_1\n",
    "$$\n",
    "\n",
    "3D loss:\n",
    "$$\n",
    "l_{3D}= \\sum_t w_t dist(\\hat{q}_t, q(z_t))\n",
    "$$\n",
    "\n",
    "Smooth loss:\n",
    "$$\n",
    "l_{sm}= \\sum_t \\sum_j \\left\\Vert F_j(q(z_t))-F_j(q(z_{t+1}))\\right\\Vert_2^2\n",
    "$$\n",
    "\n"
   ]
  },
  {
   "cell_type": "code",
   "execution_count": 6,
   "metadata": {},
   "outputs": [],
   "source": [
    "y_true = data['joints']"
   ]
  },
  {
   "cell_type": "code",
   "execution_count": 7,
   "metadata": {},
   "outputs": [],
   "source": [
    "z = tf.get_variable(\"Z\", shape=(num_steps, num_hidden), initializer=tf.truncated_normal_initializer())"
   ]
  },
  {
   "cell_type": "code",
   "execution_count": 8,
   "metadata": {},
   "outputs": [],
   "source": [
    "def F(z):\n",
    "    weights = tf.random_normal([2048, 19* 2])\n",
    "    out = tf.matmul(z, weights)\n",
    "    out = tf.reshape(out, [-1, 19, 2])\n",
    "    return out"
   ]
  },
  {
   "cell_type": "code",
   "execution_count": 9,
   "metadata": {},
   "outputs": [],
   "source": [
    "y = F(z)"
   ]
  },
  {
   "cell_type": "code",
   "execution_count": 12,
   "metadata": {},
   "outputs": [],
   "source": [
    "loss = tf.losses.mean_squared_error(labels=y_true, predictions=y)\n",
    "optimizer = tf.train.GradientDescentOptimizer(lr)\n",
    "train = optimizer.minimize(loss)"
   ]
  },
  {
   "cell_type": "code",
   "execution_count": 13,
   "metadata": {},
   "outputs": [],
   "source": [
    "sess.run(tf.global_variables_initializer())"
   ]
  },
  {
   "cell_type": "code",
   "execution_count": 18,
   "metadata": {},
   "outputs": [
    {
     "name": "stdout",
     "output_type": "stream",
     "text": [
      "step 0, loss = 12410.6171875\n",
      "step 10, loss = 12580.8945312\n",
      "step 20, loss = 12057.8486328\n",
      "step 30, loss = 11721.9033203\n",
      "step 40, loss = 12203.9111328\n",
      "step 50, loss = 12112.9150391\n",
      "step 60, loss = 12055.3769531\n",
      "step 70, loss = 12030.6904297\n",
      "step 80, loss = 12329.4072266\n",
      "step 90, loss = 12305.9511719\n"
     ]
    }
   ],
   "source": [
    "for i in range(100):\n",
    "  _, loss_value = sess.run((train, loss))\n",
    "  if i % 10 == 0:\n",
    "        print(\"step {}, loss = {}\".format(i, loss_value))"
   ]
  },
  {
   "cell_type": "code",
   "execution_count": 20,
   "metadata": {},
   "outputs": [
    {
     "data": {
      "text/plain": [
       "array([[[-10.504371 ,  10.106234 ],\n",
       "        [ 45.311035 ,  51.350853 ],\n",
       "        [ 51.20983  ,  27.224617 ],\n",
       "        ...,\n",
       "        [ 20.53846  ,  53.038773 ],\n",
       "        [  6.4497075, -28.236279 ],\n",
       "        [ 35.151764 ,   4.844335 ]],\n",
       "\n",
       "       [[ -9.276977 ,   6.5596237],\n",
       "        [ 13.482837 ,  -7.0957994],\n",
       "        [-12.251934 ,  35.588833 ],\n",
       "        ...,\n",
       "        [ 19.29368  ,   3.029519 ],\n",
       "        [-36.333954 ,  23.712475 ],\n",
       "        [-38.02973  ,  26.642513 ]],\n",
       "\n",
       "       [[-23.266329 ,  21.430935 ],\n",
       "        [-23.847948 ,   3.8062685],\n",
       "        [  3.3296084,  16.68761  ],\n",
       "        ...,\n",
       "        [ 13.873499 ,  31.779516 ],\n",
       "        [ 37.505283 , -21.950104 ],\n",
       "        [ 13.0113535,   4.6720114]],\n",
       "\n",
       "       ...,\n",
       "\n",
       "       [[ 53.50943  , -16.198023 ],\n",
       "        [ -2.684005 , -20.25075  ],\n",
       "        [ 28.081156 , -25.267086 ],\n",
       "        ...,\n",
       "        [-14.617403 ,  16.611122 ],\n",
       "        [ 10.98661  , -34.135426 ],\n",
       "        [ 21.6768   , -21.211447 ]],\n",
       "\n",
       "       [[-42.450867 ,  -8.548749 ],\n",
       "        [-37.88961  ,  16.859222 ],\n",
       "        [-36.880074 ,  -6.7129297],\n",
       "        ...,\n",
       "        [-20.15135  ,  44.146812 ],\n",
       "        [ 34.609768 , -24.864267 ],\n",
       "        [  9.576057 , -17.830736 ]],\n",
       "\n",
       "       [[ -7.150322 , -34.608562 ],\n",
       "        [-52.49482  ,  18.31831  ],\n",
       "        [ 23.829672 , -36.328617 ],\n",
       "        ...,\n",
       "        [-23.266335 ,  -3.246389 ],\n",
       "        [  7.887162 , -46.84179  ],\n",
       "        [-43.202583 ,  57.12105  ]]], dtype=float32)"
      ]
     },
     "execution_count": 20,
     "metadata": {},
     "output_type": "execute_result"
    }
   ],
   "source": [
    "sess.run(y)"
   ]
  },
  {
   "cell_type": "code",
   "execution_count": 22,
   "metadata": {},
   "outputs": [
    {
     "data": {
      "text/plain": [
       "array([[[ 70.74985 , 175.8284  ],\n",
       "        [ 90.632996, 146.16658 ],\n",
       "        [102.96744 , 110.11203 ],\n",
       "        ...,\n",
       "        [114.08213 ,  51.3454  ],\n",
       "        [119.958595,  48.869904],\n",
       "        [106.5837  ,  49.36264 ]],\n",
       "\n",
       "       [[ 68.30115 , 171.32574 ],\n",
       "        [ 89.460304, 134.67717 ],\n",
       "        [101.52212 ,  98.315346],\n",
       "        ...,\n",
       "        [139.46268 ,  54.233665],\n",
       "        [138.35754 ,  46.919487],\n",
       "        [131.30118 ,  47.870167]],\n",
       "\n",
       "       [[ 72.433914, 173.05396 ],\n",
       "        [ 89.881966, 137.26054 ],\n",
       "        [100.6772  , 100.550766],\n",
       "        ...,\n",
       "        [134.31285 ,  53.31913 ],\n",
       "        [136.12846 ,  49.335995],\n",
       "        [127.547165,  45.80071 ]],\n",
       "\n",
       "       ...,\n",
       "\n",
       "       [[ 74.01258 , 175.23819 ],\n",
       "        [ 84.519775, 150.6713  ],\n",
       "        [ 90.922455, 119.5243  ],\n",
       "        ...,\n",
       "        [108.92292 ,  69.0672  ],\n",
       "        [114.25256 ,  73.73198 ],\n",
       "        [103.403564,  70.796844]],\n",
       "\n",
       "       [[ 88.34883 , 164.2773  ],\n",
       "        [ 99.79211 , 139.94206 ],\n",
       "        [103.388214, 107.768295],\n",
       "        ...,\n",
       "        [114.30684 ,  60.96528 ],\n",
       "        [119.929184,  59.577606],\n",
       "        [108.8756  ,  58.74563 ]],\n",
       "\n",
       "       [[ 47.16084 , 133.7697  ],\n",
       "        [ 90.91699 , 152.24594 ],\n",
       "        [ 92.83027 , 101.53649 ],\n",
       "        ...,\n",
       "        [152.81857 ,  77.06131 ],\n",
       "        [148.48708 ,  61.88974 ],\n",
       "        [147.59862 ,  74.032974]]], dtype=float32)"
      ]
     },
     "execution_count": 22,
     "metadata": {},
     "output_type": "execute_result"
    }
   ],
   "source": [
    "data['joints']"
   ]
  },
  {
   "cell_type": "code",
   "execution_count": null,
   "metadata": {},
   "outputs": [],
   "source": [
    "array([[ 0.8695588 , -0.10210263, -0.70709586, ...,  0.35408315,\n",
    "        -0.7213362 , -0.683963  ],\n",
    "       [-0.89677817,  0.7956062 , -1.2477107 , ...,  0.52501583,\n",
    "         0.5512355 ,  1.4323367 ],\n",
    "       [ 1.4528289 , -1.9335874 ,  0.3995513 , ...,  0.5208921 ,\n",
    "        -0.6019875 ,  0.8595276 ],\n",
    "       ...,\n",
    "       [ 0.24775645, -0.19322538, -1.0393876 , ..., -1.5815692 ,\n",
    "         1.4920877 , -0.3311486 ],\n",
    "       [ 0.2905283 ,  0.01512055, -0.62715375, ...,  0.47839084,\n",
    "         0.47361645,  0.84168893],\n",
    "       [ 0.3841245 , -1.3143691 , -1.1167487 , ...,  0.52404374,\n",
    "         0.9821101 , -0.7097833 ]], dtype=float32)"
   ]
  }
 ],
 "metadata": {
  "kernelspec": {
   "display_name": "Python 2",
   "language": "python",
   "name": "python2"
  },
  "language_info": {
   "codemirror_mode": {
    "name": "ipython",
    "version": 2
   },
   "file_extension": ".py",
   "mimetype": "text/x-python",
   "name": "python",
   "nbconvert_exporter": "python",
   "pygments_lexer": "ipython2",
   "version": "2.7.15"
  }
 },
 "nbformat": 4,
 "nbformat_minor": 2
}
