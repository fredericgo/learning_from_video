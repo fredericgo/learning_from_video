{
 "cells": [
  {
   "cell_type": "code",
   "execution_count": 1,
   "metadata": {},
   "outputs": [
    {
     "name": "stderr",
     "output_type": "stream",
     "text": [
      "/anaconda2/lib/python2.7/site-packages/h5py/__init__.py:36: FutureWarning: Conversion of the second argument of issubdtype from `float` to `np.floating` is deprecated. In future, it will be treated as `np.float64 == np.dtype(float).type`.\n",
      "  from ._conv import register_converters as _register_converters\n"
     ]
    }
   ],
   "source": [
    "from __future__ import absolute_import\n",
    "from __future__ import division\n",
    "from __future__ import print_function\n",
    "\n",
    "import numpy as np\n",
    "import tensorflow as tf"
   ]
  },
  {
   "cell_type": "code",
   "execution_count": 2,
   "metadata": {},
   "outputs": [],
   "source": [
    "sess = tf.InteractiveSession()"
   ]
  },
  {
   "cell_type": "code",
   "execution_count": 3,
   "metadata": {},
   "outputs": [],
   "source": [
    "data = np.load('p1.npy').item()"
   ]
  },
  {
   "cell_type": "code",
   "execution_count": 4,
   "metadata": {},
   "outputs": [],
   "source": [
    "num_cam = 3\n",
    "num_features = 72\n",
    "num_hidden = 2048\n",
    "\n",
    "x2d = data['joints']\n",
    "q3d = data['theta'][:, num_cam:(num_cam + num_features)]\n",
    "num_steps = x2d.shape[0]"
   ]
  },
  {
   "cell_type": "code",
   "execution_count": 24,
   "metadata": {},
   "outputs": [],
   "source": [
    "lr = 0.1"
   ]
  },
  {
   "cell_type": "code",
   "execution_count": 25,
   "metadata": {},
   "outputs": [
    {
     "data": {
      "text/plain": [
       "['cams', 'joints', 'verts', 'joints3d', 'theta']"
      ]
     },
     "execution_count": 25,
     "metadata": {},
     "output_type": "execute_result"
    }
   ],
   "source": [
    "data.keys()"
   ]
  },
  {
   "cell_type": "markdown",
   "metadata": {},
   "source": [
    "# Note\n",
    "Latent features: $Z=\\{z_t\\}$\n",
    "\n",
    "Loss function: $l_{rec}(Z)=w_{2D}l_{2D}(Z)+ w_{3D}l_{3D}(Z)+w_{sm}l_{sm}(Z)$\n",
    "\n",
    "2D loss:\n",
    "$$\n",
    "l_{2D}=\\sum_t\\sum_j c_{t,j}\\left\\Vert\\hat{x}_{t,j}-\\Pi[F_j(q(z_t))]\\right\\Vert_1\n",
    "$$\n",
    "\n",
    "3D loss:\n",
    "$$\n",
    "l_{3D}= \\sum_t w_t dist(\\hat{q}_t, q(z_t))\n",
    "$$\n",
    "\n",
    "Smooth loss:\n",
    "$$\n",
    "l_{sm}= \\sum_t \\sum_j \\left\\Vert F_j(q(z_t))-F_j(q(z_{t+1}))\\right\\Vert_2^2\n",
    "$$\n",
    "\n"
   ]
  },
  {
   "cell_type": "code",
   "execution_count": 26,
   "metadata": {},
   "outputs": [],
   "source": [
    "y_true = data['joints']"
   ]
  },
  {
   "cell_type": "code",
   "execution_count": 27,
   "metadata": {},
   "outputs": [
    {
     "ename": "ValueError",
     "evalue": "Variable Z already exists, disallowed. Did you mean to set reuse=True or reuse=tf.AUTO_REUSE in VarScope? Originally defined at:\n\n  File \"<ipython-input-7-a8b3bd5a7afd>\", line 1, in <module>\n    z = tf.get_variable(\"Z\", shape=(num_steps, num_hidden), initializer=tf.truncated_normal_initializer())\n  File \"/anaconda2/lib/python2.7/site-packages/IPython/core/interactiveshell.py\", line 2878, in run_code\n    exec(code_obj, self.user_global_ns, self.user_ns)\n  File \"/anaconda2/lib/python2.7/site-packages/IPython/core/interactiveshell.py\", line 2818, in run_ast_nodes\n    if self.run_code(code, result):\n",
     "output_type": "error",
     "traceback": [
      "\u001b[0;31m---------------------------------------------------------------------------\u001b[0m",
      "\u001b[0;31mValueError\u001b[0m                                Traceback (most recent call last)",
      "\u001b[0;32m<ipython-input-27-a8b3bd5a7afd>\u001b[0m in \u001b[0;36m<module>\u001b[0;34m()\u001b[0m\n\u001b[0;32m----> 1\u001b[0;31m \u001b[0mz\u001b[0m \u001b[0;34m=\u001b[0m \u001b[0mtf\u001b[0m\u001b[0;34m.\u001b[0m\u001b[0mget_variable\u001b[0m\u001b[0;34m(\u001b[0m\u001b[0;34m\"Z\"\u001b[0m\u001b[0;34m,\u001b[0m \u001b[0mshape\u001b[0m\u001b[0;34m=\u001b[0m\u001b[0;34m(\u001b[0m\u001b[0mnum_steps\u001b[0m\u001b[0;34m,\u001b[0m \u001b[0mnum_hidden\u001b[0m\u001b[0;34m)\u001b[0m\u001b[0;34m,\u001b[0m \u001b[0minitializer\u001b[0m\u001b[0;34m=\u001b[0m\u001b[0mtf\u001b[0m\u001b[0;34m.\u001b[0m\u001b[0mtruncated_normal_initializer\u001b[0m\u001b[0;34m(\u001b[0m\u001b[0;34m)\u001b[0m\u001b[0;34m)\u001b[0m\u001b[0;34m\u001b[0m\u001b[0m\n\u001b[0m",
      "\u001b[0;32m/anaconda2/lib/python2.7/site-packages/tensorflow/python/ops/variable_scope.pyc\u001b[0m in \u001b[0;36mget_variable\u001b[0;34m(name, shape, dtype, initializer, regularizer, trainable, collections, caching_device, partitioner, validate_shape, use_resource, custom_getter, constraint, synchronization, aggregation)\u001b[0m\n\u001b[1;32m   1465\u001b[0m       \u001b[0mconstraint\u001b[0m\u001b[0;34m=\u001b[0m\u001b[0mconstraint\u001b[0m\u001b[0;34m,\u001b[0m\u001b[0;34m\u001b[0m\u001b[0m\n\u001b[1;32m   1466\u001b[0m       \u001b[0msynchronization\u001b[0m\u001b[0;34m=\u001b[0m\u001b[0msynchronization\u001b[0m\u001b[0;34m,\u001b[0m\u001b[0;34m\u001b[0m\u001b[0m\n\u001b[0;32m-> 1467\u001b[0;31m       aggregation=aggregation)\n\u001b[0m\u001b[1;32m   1468\u001b[0m \u001b[0;34m\u001b[0m\u001b[0m\n\u001b[1;32m   1469\u001b[0m \u001b[0;34m\u001b[0m\u001b[0m\n",
      "\u001b[0;32m/anaconda2/lib/python2.7/site-packages/tensorflow/python/ops/variable_scope.pyc\u001b[0m in \u001b[0;36mget_variable\u001b[0;34m(self, var_store, name, shape, dtype, initializer, regularizer, reuse, trainable, collections, caching_device, partitioner, validate_shape, use_resource, custom_getter, constraint, synchronization, aggregation)\u001b[0m\n\u001b[1;32m   1215\u001b[0m           \u001b[0mconstraint\u001b[0m\u001b[0;34m=\u001b[0m\u001b[0mconstraint\u001b[0m\u001b[0;34m,\u001b[0m\u001b[0;34m\u001b[0m\u001b[0m\n\u001b[1;32m   1216\u001b[0m           \u001b[0msynchronization\u001b[0m\u001b[0;34m=\u001b[0m\u001b[0msynchronization\u001b[0m\u001b[0;34m,\u001b[0m\u001b[0;34m\u001b[0m\u001b[0m\n\u001b[0;32m-> 1217\u001b[0;31m           aggregation=aggregation)\n\u001b[0m\u001b[1;32m   1218\u001b[0m \u001b[0;34m\u001b[0m\u001b[0m\n\u001b[1;32m   1219\u001b[0m   def _get_partitioned_variable(self,\n",
      "\u001b[0;32m/anaconda2/lib/python2.7/site-packages/tensorflow/python/ops/variable_scope.pyc\u001b[0m in \u001b[0;36mget_variable\u001b[0;34m(self, name, shape, dtype, initializer, regularizer, reuse, trainable, collections, caching_device, partitioner, validate_shape, use_resource, custom_getter, constraint, synchronization, aggregation)\u001b[0m\n\u001b[1;32m    525\u001b[0m           \u001b[0mconstraint\u001b[0m\u001b[0;34m=\u001b[0m\u001b[0mconstraint\u001b[0m\u001b[0;34m,\u001b[0m\u001b[0;34m\u001b[0m\u001b[0m\n\u001b[1;32m    526\u001b[0m           \u001b[0msynchronization\u001b[0m\u001b[0;34m=\u001b[0m\u001b[0msynchronization\u001b[0m\u001b[0;34m,\u001b[0m\u001b[0;34m\u001b[0m\u001b[0m\n\u001b[0;32m--> 527\u001b[0;31m           aggregation=aggregation)\n\u001b[0m\u001b[1;32m    528\u001b[0m \u001b[0;34m\u001b[0m\u001b[0m\n\u001b[1;32m    529\u001b[0m   def _get_partitioned_variable(self,\n",
      "\u001b[0;32m/anaconda2/lib/python2.7/site-packages/tensorflow/python/ops/variable_scope.pyc\u001b[0m in \u001b[0;36m_true_getter\u001b[0;34m(name, shape, dtype, initializer, regularizer, reuse, trainable, collections, caching_device, partitioner, validate_shape, use_resource, constraint, synchronization, aggregation)\u001b[0m\n\u001b[1;32m    479\u001b[0m           \u001b[0mconstraint\u001b[0m\u001b[0;34m=\u001b[0m\u001b[0mconstraint\u001b[0m\u001b[0;34m,\u001b[0m\u001b[0;34m\u001b[0m\u001b[0m\n\u001b[1;32m    480\u001b[0m           \u001b[0msynchronization\u001b[0m\u001b[0;34m=\u001b[0m\u001b[0msynchronization\u001b[0m\u001b[0;34m,\u001b[0m\u001b[0;34m\u001b[0m\u001b[0m\n\u001b[0;32m--> 481\u001b[0;31m           aggregation=aggregation)\n\u001b[0m\u001b[1;32m    482\u001b[0m \u001b[0;34m\u001b[0m\u001b[0m\n\u001b[1;32m    483\u001b[0m     \u001b[0;31m# Set trainable value based on synchronization value.\u001b[0m\u001b[0;34m\u001b[0m\u001b[0;34m\u001b[0m\u001b[0m\n",
      "\u001b[0;32m/anaconda2/lib/python2.7/site-packages/tensorflow/python/ops/variable_scope.pyc\u001b[0m in \u001b[0;36m_get_single_variable\u001b[0;34m(self, name, shape, dtype, initializer, regularizer, partition_info, reuse, trainable, collections, caching_device, validate_shape, use_resource, constraint, synchronization, aggregation)\u001b[0m\n\u001b[1;32m    846\u001b[0m                          \u001b[0;34m\"reuse=tf.AUTO_REUSE in VarScope? \"\u001b[0m\u001b[0;34m\u001b[0m\u001b[0m\n\u001b[1;32m    847\u001b[0m                          \"Originally defined at:\\n\\n%s\" % (\n\u001b[0;32m--> 848\u001b[0;31m                              name, \"\".join(traceback.format_list(tb))))\n\u001b[0m\u001b[1;32m    849\u001b[0m       \u001b[0mfound_var\u001b[0m \u001b[0;34m=\u001b[0m \u001b[0mself\u001b[0m\u001b[0;34m.\u001b[0m\u001b[0m_vars\u001b[0m\u001b[0;34m[\u001b[0m\u001b[0mname\u001b[0m\u001b[0;34m]\u001b[0m\u001b[0;34m\u001b[0m\u001b[0m\n\u001b[1;32m    850\u001b[0m       \u001b[0;32mif\u001b[0m \u001b[0;32mnot\u001b[0m \u001b[0mshape\u001b[0m\u001b[0;34m.\u001b[0m\u001b[0mis_compatible_with\u001b[0m\u001b[0;34m(\u001b[0m\u001b[0mfound_var\u001b[0m\u001b[0;34m.\u001b[0m\u001b[0mget_shape\u001b[0m\u001b[0;34m(\u001b[0m\u001b[0;34m)\u001b[0m\u001b[0;34m)\u001b[0m\u001b[0;34m:\u001b[0m\u001b[0;34m\u001b[0m\u001b[0m\n",
      "\u001b[0;31mValueError\u001b[0m: Variable Z already exists, disallowed. Did you mean to set reuse=True or reuse=tf.AUTO_REUSE in VarScope? Originally defined at:\n\n  File \"<ipython-input-7-a8b3bd5a7afd>\", line 1, in <module>\n    z = tf.get_variable(\"Z\", shape=(num_steps, num_hidden), initializer=tf.truncated_normal_initializer())\n  File \"/anaconda2/lib/python2.7/site-packages/IPython/core/interactiveshell.py\", line 2878, in run_code\n    exec(code_obj, self.user_global_ns, self.user_ns)\n  File \"/anaconda2/lib/python2.7/site-packages/IPython/core/interactiveshell.py\", line 2818, in run_ast_nodes\n    if self.run_code(code, result):\n"
     ]
    }
   ],
   "source": [
    "init = tf.constant(np.random.rand(1, 2))\n",
    "z = tf.get_variable(\"Z\", shape=(num_steps, num_hidden), initializer=tf.truncated_normal_initializer())"
   ]
  },
  {
   "cell_type": "code",
   "execution_count": 28,
   "metadata": {},
   "outputs": [],
   "source": [
    "def F(z):\n",
    "    weights = tf.random_normal([2048, 19* 2])\n",
    "    out = tf.matmul(z, weights)\n",
    "    out = tf.reshape(out, [-1, 19, 2])\n",
    "    return out"
   ]
  },
  {
   "cell_type": "code",
   "execution_count": 29,
   "metadata": {},
   "outputs": [],
   "source": [
    "y = F(z)"
   ]
  },
  {
   "cell_type": "code",
   "execution_count": 30,
   "metadata": {},
   "outputs": [],
   "source": [
    "loss = tf.losses.mean_squared_error(labels=y_true, predictions=y)\n",
    "optimizer = tf.train.GradientDescentOptimizer(lr)\n",
    "train = optimizer.minimize(loss)"
   ]
  },
  {
   "cell_type": "code",
   "execution_count": 31,
   "metadata": {},
   "outputs": [],
   "source": [
    "sess.run(tf.global_variables_initializer())"
   ]
  },
  {
   "cell_type": "code",
   "execution_count": 32,
   "metadata": {},
   "outputs": [
    {
     "name": "stdout",
     "output_type": "stream",
     "text": [
      "step 0, loss = 12837.4785156\n",
      "step 10, loss = 12093.0654297\n",
      "step 20, loss = 12263.2255859\n",
      "step 30, loss = 12877.0058594\n",
      "step 40, loss = 12698.1933594\n",
      "step 50, loss = 12799.0566406\n",
      "step 60, loss = 12833.2949219\n",
      "step 70, loss = 12813.4970703\n",
      "step 80, loss = 12375.6660156\n",
      "step 90, loss = 12923.4521484\n"
     ]
    }
   ],
   "source": [
    "for i in range(100):\n",
    "  _, loss_value = sess.run((train, loss))\n",
    "  if i % 10 == 0:\n",
    "        print(\"step {}, loss = {}\".format(i, loss_value))"
   ]
  },
  {
   "cell_type": "code",
   "execution_count": 33,
   "metadata": {},
   "outputs": [
    {
     "data": {
      "text/plain": [
       "array([[[ -3.6404862 ,  32.225452  ],\n",
       "        [-47.85466   ,  25.889977  ],\n",
       "        [-30.617075  , -25.52144   ],\n",
       "        ...,\n",
       "        [ 30.628723  ,  47.577682  ],\n",
       "        [ 31.394442  ,   5.0311365 ],\n",
       "        [ 67.79482   ,  41.15177   ]],\n",
       "\n",
       "       [[ -9.090286  ,  27.360525  ],\n",
       "        [ 16.829334  , -24.961092  ],\n",
       "        [  4.5433803 , -67.196785  ],\n",
       "        ...,\n",
       "        [ 14.183479  , -44.080204  ],\n",
       "        [-25.926945  ,  -6.193497  ],\n",
       "        [ 38.99374   ,  36.168922  ]],\n",
       "\n",
       "       [[  3.3253174 ,  58.373287  ],\n",
       "        [-47.902878  , -49.32214   ],\n",
       "        [ 14.001379  ,  50.870667  ],\n",
       "        ...,\n",
       "        [ 66.051     ,  10.2701    ],\n",
       "        [ 67.97774   ,  86.33458   ],\n",
       "        [  4.8336964 ,  32.25796   ]],\n",
       "\n",
       "       ...,\n",
       "\n",
       "       [[ 30.944813  , -13.981377  ],\n",
       "        [-67.62806   , -32.92884   ],\n",
       "        [-48.59563   ,  11.181901  ],\n",
       "        ...,\n",
       "        [ 35.086243  , -51.09581   ],\n",
       "        [ -0.47501087,  18.620335  ],\n",
       "        [ 66.721634  , -46.696495  ]],\n",
       "\n",
       "       [[  2.018384  ,  62.762943  ],\n",
       "        [-45.831776  ,  14.882344  ],\n",
       "        [-16.192413  , -27.238995  ],\n",
       "        ...,\n",
       "        [ 49.794434  ,  14.642977  ],\n",
       "        [ 39.913643  ,  29.831871  ],\n",
       "        [ 16.177155  ,  41.23143   ]],\n",
       "\n",
       "       [[ 48.292526  ,  -8.294473  ],\n",
       "        [ -8.681235  , -91.43546   ],\n",
       "        [-39.849464  , -10.220917  ],\n",
       "        ...,\n",
       "        [ 52.277504  ,   5.317595  ],\n",
       "        [-57.001846  ,  12.13449   ],\n",
       "        [-14.376724  , -20.109674  ]]], dtype=float32)"
      ]
     },
     "execution_count": 33,
     "metadata": {},
     "output_type": "execute_result"
    }
   ],
   "source": [
    "sess.run(y)"
   ]
  },
  {
   "cell_type": "code",
   "execution_count": 34,
   "metadata": {},
   "outputs": [
    {
     "data": {
      "text/plain": [
       "array([[[ 70.74985 , 175.8284  ],\n",
       "        [ 90.632996, 146.16658 ],\n",
       "        [102.96744 , 110.11203 ],\n",
       "        ...,\n",
       "        [114.08213 ,  51.3454  ],\n",
       "        [119.958595,  48.869904],\n",
       "        [106.5837  ,  49.36264 ]],\n",
       "\n",
       "       [[ 68.30115 , 171.32574 ],\n",
       "        [ 89.460304, 134.67717 ],\n",
       "        [101.52212 ,  98.315346],\n",
       "        ...,\n",
       "        [139.46268 ,  54.233665],\n",
       "        [138.35754 ,  46.919487],\n",
       "        [131.30118 ,  47.870167]],\n",
       "\n",
       "       [[ 72.433914, 173.05396 ],\n",
       "        [ 89.881966, 137.26054 ],\n",
       "        [100.6772  , 100.550766],\n",
       "        ...,\n",
       "        [134.31285 ,  53.31913 ],\n",
       "        [136.12846 ,  49.335995],\n",
       "        [127.547165,  45.80071 ]],\n",
       "\n",
       "       ...,\n",
       "\n",
       "       [[ 74.01258 , 175.23819 ],\n",
       "        [ 84.519775, 150.6713  ],\n",
       "        [ 90.922455, 119.5243  ],\n",
       "        ...,\n",
       "        [108.92292 ,  69.0672  ],\n",
       "        [114.25256 ,  73.73198 ],\n",
       "        [103.403564,  70.796844]],\n",
       "\n",
       "       [[ 88.34883 , 164.2773  ],\n",
       "        [ 99.79211 , 139.94206 ],\n",
       "        [103.388214, 107.768295],\n",
       "        ...,\n",
       "        [114.30684 ,  60.96528 ],\n",
       "        [119.929184,  59.577606],\n",
       "        [108.8756  ,  58.74563 ]],\n",
       "\n",
       "       [[ 47.16084 , 133.7697  ],\n",
       "        [ 90.91699 , 152.24594 ],\n",
       "        [ 92.83027 , 101.53649 ],\n",
       "        ...,\n",
       "        [152.81857 ,  77.06131 ],\n",
       "        [148.48708 ,  61.88974 ],\n",
       "        [147.59862 ,  74.032974]]], dtype=float32)"
      ]
     },
     "execution_count": 34,
     "metadata": {},
     "output_type": "execute_result"
    }
   ],
   "source": [
    "data['joints']"
   ]
  },
  {
   "cell_type": "code",
   "execution_count": null,
   "metadata": {},
   "outputs": [],
   "source": [
    "array([[ 0.8695588 , -0.10210263, -0.70709586, ...,  0.35408315,\n",
    "        -0.7213362 , -0.683963  ],\n",
    "       [-0.89677817,  0.7956062 , -1.2477107 , ...,  0.52501583,\n",
    "         0.5512355 ,  1.4323367 ],\n",
    "       [ 1.4528289 , -1.9335874 ,  0.3995513 , ...,  0.5208921 ,\n",
    "        -0.6019875 ,  0.8595276 ],\n",
    "       ...,\n",
    "       [ 0.24775645, -0.19322538, -1.0393876 , ..., -1.5815692 ,\n",
    "         1.4920877 , -0.3311486 ],\n",
    "       [ 0.2905283 ,  0.01512055, -0.62715375, ...,  0.47839084,\n",
    "         0.47361645,  0.84168893],\n",
    "       [ 0.3841245 , -1.3143691 , -1.1167487 , ...,  0.52404374,\n",
    "         0.9821101 , -0.7097833 ]], dtype=float32)"
   ]
  }
 ],
 "metadata": {
  "kernelspec": {
   "display_name": "Python 2",
   "language": "python",
   "name": "python2"
  },
  "language_info": {
   "codemirror_mode": {
    "name": "ipython",
    "version": 2
   },
   "file_extension": ".py",
   "mimetype": "text/x-python",
   "name": "python",
   "nbconvert_exporter": "python",
   "pygments_lexer": "ipython2",
   "version": "2.7.15"
  }
 },
 "nbformat": 4,
 "nbformat_minor": 2
}
